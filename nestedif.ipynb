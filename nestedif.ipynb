{
 "cells": [
  {
   "cell_type": "code",
   "execution_count": 21,
   "id": "e91654ac-c55c-4879-b7cb-057ef750c6af",
   "metadata": {},
   "outputs": [
    {
     "name": "stdin",
     "output_type": "stream",
     "text": [
      "Enter your score 92\n"
     ]
    },
    {
     "name": "stdout",
     "output_type": "stream",
     "text": [
      "Grade A\n"
     ]
    }
   ],
   "source": [
    "score=int(input('Enter your score'))\n",
    "\n",
    "if 0<= score <=100:\n",
    "    if score>=90:\n",
    "        print('Grade A')\n",
    "    elif score>=80:\n",
    "        print('Grade B')\n",
    "    elif score>=70:\n",
    "        print('Grade C')\n",
    "    elif score>=60:\n",
    "        print('Grade D')\n",
    "    else:\n",
    "        print('Grade F')\n",
    "else:\n",
    "    print('Invalid Score')\n",
    "      \n",
    "    \n",
    "    "
   ]
  },
  {
   "cell_type": "code",
   "execution_count": 48,
   "id": "875bbd54-7068-4c4b-986a-7a7aa68fb41a",
   "metadata": {},
   "outputs": [
    {
     "name": "stdin",
     "output_type": "stream",
     "text": [
      "Enter you height in meters 1.63\n",
      "Enter your height in kg 60\n"
     ]
    },
    {
     "name": "stdout",
     "output_type": "stream",
     "text": [
      "Your BMI is 23\n",
      "You are Normal weight\n",
      "Thank You\n"
     ]
    }
   ],
   "source": [
    "Height= float(input('Enter you height in meters'))\n",
    "Weight= int(input('Enter your height in kg'))\n",
    "if Height > 0 and Weight > 0:\n",
    "    BMI=round(Weight/(Height**2))\n",
    "    print(f'Your BMI is {BMI}')\n",
    "    if BMI>=30:\n",
    "        print('You are Obese')\n",
    "    elif BMI>=25:\n",
    "        print('You are Over weight')\n",
    "    elif BMI>=18.5:\n",
    "        print('You are Normal weight')\n",
    "    else:\n",
    "        print('You are Under weight')\n",
    "else:\n",
    "    print('Invalid input')\n",
    "print('Thank You')\n",
    "\n",
    "\n",
    "    "
   ]
  },
  {
   "cell_type": "code",
   "execution_count": 45,
   "id": "d93eea5d-119f-4fc1-a3f3-c0c3bbcdff82",
   "metadata": {},
   "outputs": [
    {
     "name": "stdin",
     "output_type": "stream",
     "text": [
      "Enter the number 44\n",
      "Enter the number 99\n",
      "Enter the operation(+,-,*,/,%): /\n"
     ]
    },
    {
     "name": "stdout",
     "output_type": "stream",
     "text": [
      "The result is 0.4444444444444444\n"
     ]
    }
   ],
   "source": [
    "num1 = float(input('Enter the number'))\n",
    "num2 = float(input('Enter the number'))\n",
    "operation= input('Enter the operation(+,-,*,/,%):')\n",
    "\n",
    "if operation == '+':\n",
    "    print(f'The result is {num1+num2}')\n",
    "elif operation == '-' :\n",
    "    print(f'The result is {num1-num2}')\n",
    "elif operation == '*' :\n",
    "    print(f'The result is {num1*num2}')\n",
    "elif operation == '/' :\n",
    "    if num2 ==0 :\n",
    "        print(f'Division by 0 is not possible')\n",
    "    else:\n",
    "        print(f'The result is {num1/num2}')\n",
    "elif operation == '%':\n",
    "    if num2==0:\n",
    "        print('Error modules by 0 is not possible')\n",
    "    else:\n",
    "        print(f'The result is {num1%num2}')\n",
    "else:\n",
    "    print('Invalid operation. Please enter valid operation('+','-','*','/','%')')\n",
    "    \n",
    "\n",
    "    \n",
    "        "
   ]
  },
  {
   "cell_type": "code",
   "execution_count": 64,
   "id": "5b66c36a-b1db-4268-9b2d-eaf8af74f0e8",
   "metadata": {},
   "outputs": [
    {
     "name": "stdin",
     "output_type": "stream",
     "text": [
      "Enter the year 2023\n"
     ]
    },
    {
     "name": "stdout",
     "output_type": "stream",
     "text": [
      "not a leap year\n"
     ]
    }
   ],
   "source": [
    "year = int(input('Enter the year'))\n",
    "\n",
    "if year%4==0:\n",
    "    if year%100==0:\n",
    "        if year%400==0:\n",
    "            print('leap year')\n",
    "        else:\n",
    "            print('not a leap year')\n",
    "    else:\n",
    "        print('leap year')\n",
    "else:\n",
    "    print('not a leap year')"
   ]
  },
  {
   "cell_type": "code",
   "execution_count": 5,
   "id": "ecab63d3-a9d9-4187-a2e9-87f4fe68c7fc",
   "metadata": {},
   "outputs": [
    {
     "name": "stdin",
     "output_type": "stream",
     "text": [
      "Enter your height 5\n"
     ]
    },
    {
     "name": "stdout",
     "output_type": "stream",
     "text": [
      "Can Ride\n"
     ]
    },
    {
     "name": "stdin",
     "output_type": "stream",
     "text": [
      "What is your age 15\n"
     ]
    },
    {
     "name": "stdout",
     "output_type": "stream",
     "text": [
      "Ticket price is 250\n"
     ]
    },
    {
     "name": "stdin",
     "output_type": "stream",
     "text": [
      "Do you want photo Y/N y\n"
     ]
    },
    {
     "name": "stdout",
     "output_type": "stream",
     "text": [
      "Your total bill is 300\n"
     ]
    }
   ],
   "source": [
    "height=int(input('Enter your height'))\n",
    "Bill=0\n",
    "\n",
    "if height>=3:\n",
    "    print('Can Ride')\n",
    "    age=int(input('What is your age'))\n",
    "    if age<=12:\n",
    "        Bill=120\n",
    "        print('Ticket price is 120rs')\n",
    "    elif age<=18:\n",
    "        Bill=250\n",
    "        print('Ticket price is 250')\n",
    "    else:\n",
    "        Bill=500\n",
    "        print('Ticker price 500rs')\n",
    "    Need_Photo = input('Do you want photo Y/N')\n",
    "    if Need_Photo== 'Y' or Need_Photo=='y':\n",
    "        Bill=Bill+50\n",
    "    print(f'Your total bill is {Bill}')\n",
    "else:\n",
    "    print('Cant Ride')"
   ]
  },
  {
   "cell_type": "code",
   "execution_count": 11,
   "id": "cd277b09-5a23-43b2-81e4-6f6dda853c1c",
   "metadata": {},
   "outputs": [
    {
     "name": "stdin",
     "output_type": "stream",
     "text": [
      "What size pizza you want (S,M,L) l\n"
     ]
    },
    {
     "name": "stdout",
     "output_type": "stream",
     "text": [
      "The bill is 300\n"
     ]
    },
    {
     "name": "stdin",
     "output_type": "stream",
     "text": [
      "You want pepperoni Y/N y\n"
     ]
    },
    {
     "name": "stdout",
     "output_type": "stream",
     "text": [
      "Cost of pepperoni is 50, the total bill is 350\n"
     ]
    },
    {
     "name": "stdin",
     "output_type": "stream",
     "text": [
      "Need extra cheese, price is 20, Y/N n\n"
     ]
    },
    {
     "name": "stdout",
     "output_type": "stream",
     "text": [
      "Your total bill is 350\n"
     ]
    }
   ],
   "source": [
    "size=input('What size pizza you want (S,M,L)')\n",
    "bill=0\n",
    "\n",
    "if size=='S' or size=='s':\n",
    "    bill=100\n",
    "    print(f'The price is {bill}')\n",
    "elif size=='M' or size=='m':\n",
    "    bill=200\n",
    "    print(f'The bill is {bill}')\n",
    "else:\n",
    "    bill=300\n",
    "    print(f'The bill is {bill}')\n",
    "    \n",
    "pepperoni=input('You want pepperoni Y/N')\n",
    "if pepperoni=='Y'or pepperoni=='y':\n",
    "    if size=='S' or size=='s':\n",
    "        bill=bill+30\n",
    "        print(f'Cost of pepperoni is 30, the total bill is {bill}')\n",
    "    elif size=='M' or 'm':\n",
    "        bill=bill+50\n",
    "        print(f'Cost of pepperoni is 50, the total bill is {bill}')\n",
    "        \n",
    "    else:\n",
    "        bill=bill+50\n",
    "        print(f'Cost of pepperoni is 50, the total bil is {bill}')\n",
    "cheese=input('Need extra cheese, price is 20, Y/N')\n",
    "if cheese=='Y'or cheese=='y':\n",
    "    print(f'Your total bill is {bill+20}')\n",
    "else:\n",
    "    print(f'Your total bill is {bill}')\n",
    "\n",
    "\n",
    "\n",
    "\n",
    "\n",
    "\n",
    "\n",
    "\n"
   ]
  },
  {
   "cell_type": "code",
   "execution_count": null,
   "id": "f16e2603-c367-476a-ba6d-9534e89c5eaf",
   "metadata": {},
   "outputs": [],
   "source": []
  }
 ],
 "metadata": {
  "kernelspec": {
   "display_name": "Python 3 (ipykernel)",
   "language": "python",
   "name": "python3"
  },
  "language_info": {
   "codemirror_mode": {
    "name": "ipython",
    "version": 3
   },
   "file_extension": ".py",
   "mimetype": "text/x-python",
   "name": "python",
   "nbconvert_exporter": "python",
   "pygments_lexer": "ipython3",
   "version": "3.12.4"
  }
 },
 "nbformat": 4,
 "nbformat_minor": 5
}
